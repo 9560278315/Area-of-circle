{
 "cells": [
  {
   "cell_type": "code",
   "execution_count": 1,
   "id": "92e2c73c",
   "metadata": {},
   "outputs": [],
   "source": [
    "import math"
   ]
  },
  {
   "cell_type": "code",
   "execution_count": 2,
   "id": "3b771fb4",
   "metadata": {},
   "outputs": [
    {
     "name": "stdout",
     "output_type": "stream",
     "text": [
      "Input the radious of circle: 3.6\n"
     ]
    }
   ],
   "source": [
    "Radious=float(input(\"Input the radious of circle: \"))"
   ]
  },
  {
   "cell_type": "code",
   "execution_count": 3,
   "id": "6890b11f",
   "metadata": {},
   "outputs": [
    {
     "data": {
      "text/plain": [
       "3.6"
      ]
     },
     "execution_count": 3,
     "metadata": {},
     "output_type": "execute_result"
    }
   ],
   "source": [
    "Radious"
   ]
  },
  {
   "cell_type": "code",
   "execution_count": 5,
   "id": "ef7882ed",
   "metadata": {},
   "outputs": [],
   "source": [
    "area=math.pi*(Radious**2)"
   ]
  },
  {
   "cell_type": "code",
   "execution_count": 6,
   "id": "5aa402d6",
   "metadata": {},
   "outputs": [
    {
     "data": {
      "text/plain": [
       "40.71504079052372"
      ]
     },
     "execution_count": 6,
     "metadata": {},
     "output_type": "execute_result"
    }
   ],
   "source": [
    "area"
   ]
  },
  {
   "cell_type": "code",
   "execution_count": null,
   "id": "e47c9387",
   "metadata": {},
   "outputs": [],
   "source": []
  }
 ],
 "metadata": {
  "kernelspec": {
   "display_name": "Python 3 (ipykernel)",
   "language": "python",
   "name": "python3"
  },
  "language_info": {
   "codemirror_mode": {
    "name": "ipython",
    "version": 3
   },
   "file_extension": ".py",
   "mimetype": "text/x-python",
   "name": "python",
   "nbconvert_exporter": "python",
   "pygments_lexer": "ipython3",
   "version": "3.11.5"
  }
 },
 "nbformat": 4,
 "nbformat_minor": 5
}
